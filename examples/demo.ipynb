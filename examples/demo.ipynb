{
 "cells": [
  {
   "cell_type": "code",
   "execution_count": 2,
   "metadata": {},
   "outputs": [
    {
     "ename": "ModuleNotFoundError",
     "evalue": "No module named 'OpenSA.WaveSelect.WaveSelect'",
     "output_type": "error",
     "traceback": [
      "\u001b[1;31m---------------------------------------------------------------------------\u001b[0m",
      "\u001b[1;31mModuleNotFoundError\u001b[0m                       Traceback (most recent call last)",
      "Cell \u001b[1;32mIn[2], line 22\u001b[0m\n\u001b[0;32m     20\u001b[0m \u001b[38;5;28;01mimport\u001b[39;00m \u001b[38;5;21;01mOpenSA\u001b[39;00m\u001b[38;5;21;01m.\u001b[39;00m\u001b[38;5;21;01mWaveSelect\u001b[39;00m\u001b[38;5;21;01m.\u001b[39;00m\u001b[38;5;21;01mSpa\u001b[39;00m \u001b[38;5;28;01mas\u001b[39;00m \u001b[38;5;21;01mSpa\u001b[39;00m\n\u001b[0;32m     21\u001b[0m \u001b[38;5;28;01mimport\u001b[39;00m \u001b[38;5;21;01mOpenSA\u001b[39;00m\u001b[38;5;21;01m.\u001b[39;00m\u001b[38;5;21;01mWaveSelect\u001b[39;00m\u001b[38;5;21;01m.\u001b[39;00m\u001b[38;5;21;01mUve\u001b[39;00m \u001b[38;5;28;01mas\u001b[39;00m \u001b[38;5;21;01mUve\u001b[39;00m\n\u001b[1;32m---> 22\u001b[0m \u001b[38;5;28;01mimport\u001b[39;00m \u001b[38;5;21;01mOpenSA\u001b[39;00m\u001b[38;5;21;01m.\u001b[39;00m\u001b[38;5;21;01mWaveSelect\u001b[39;00m\u001b[38;5;21;01m.\u001b[39;00m\u001b[38;5;21;01mWaveSelect\u001b[39;00m \u001b[38;5;28;01mas\u001b[39;00m \u001b[38;5;21;01mWaveSelect\u001b[39;00m   \n",
      "\u001b[1;31mModuleNotFoundError\u001b[0m: No module named 'OpenSA.WaveSelect.WaveSelect'"
     ]
    }
   ],
   "source": [
    "import OpenSA.Classification.ClassicCls as ClassicCls\n",
    "import OpenSA.Classification.CNN as CNN\n",
    "import OpenSA.Classification.DeepCls as DeepCls\n",
    "import OpenSA.Classification.SAE as SAE\n",
    "import OpenSA.Classification.Cls as Cls\n",
    "import OpenSA.Clustering.Cluster as Cluster\n",
    "import OpenSA.DataLoad as DataLoad\n",
    "import OpenSA.Evaluate.RgsEvaluate as RgsEvaluate\n",
    "import OpenSA.Preprocessing.Preprocessing as Preprocessing\n",
    "import OpenSA.Regression.ClassicRgs as ClassicRgs\n",
    "import OpenSA.Regression.CNN as CNN\n",
    "import OpenSA.Regression.CnnModel as CnnModel\n",
    "import OpenSA.Regression.DeepRgs as DeepRgs\n",
    "import OpenSA.Regression.Rgs as Rgs\n",
    "import OpenSA.Simcalculation.SimCa as SimCa\n",
    "import OpenSA.WaveSelect.Cars as Cars\n",
    "import OpenSA.WaveSelect.GA as GA\n",
    "import OpenSA.WaveSelect.Lar as Lar\n",
    "import OpenSA.WaveSelect.Pca as Pca\n",
    "import OpenSA.WaveSelect.Spa as Spa\n",
    "import OpenSA.WaveSelect.Uve as Uve\n",
    "import OpenSA.WaveSelect.WaveSelect as WaveSelect   "
   ]
  },
  {
   "cell_type": "code",
   "execution_count": null,
   "metadata": {},
   "outputs": [],
   "source": []
  }
 ],
 "metadata": {
  "kernelspec": {
   "display_name": "py311",
   "language": "python",
   "name": "python3"
  },
  "language_info": {
   "codemirror_mode": {
    "name": "ipython",
    "version": 3
   },
   "file_extension": ".py",
   "mimetype": "text/x-python",
   "name": "python",
   "nbconvert_exporter": "python",
   "pygments_lexer": "ipython3",
   "version": "3.11.10"
  }
 },
 "nbformat": 4,
 "nbformat_minor": 2
}
