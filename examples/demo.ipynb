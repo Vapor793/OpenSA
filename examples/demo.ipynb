{
 "cells": [
  {
   "cell_type": "code",
   "execution_count": 10,
   "metadata": {},
   "outputs": [
    {
     "ename": "ModuleNotFoundError",
     "evalue": "No module named 'Evaluate'",
     "output_type": "error",
     "traceback": [
      "\u001b[1;31m---------------------------------------------------------------------------\u001b[0m",
      "\u001b[1;31mModuleNotFoundError\u001b[0m                       Traceback (most recent call last)",
      "Cell \u001b[1;32mIn[10], line 10\u001b[0m\n\u001b[0;32m      8\u001b[0m \u001b[38;5;28;01mimport\u001b[39;00m \u001b[38;5;21;01mOpenSA\u001b[39;00m\u001b[38;5;21;01m.\u001b[39;00m\u001b[38;5;21;01mEvaluate\u001b[39;00m\u001b[38;5;21;01m.\u001b[39;00m\u001b[38;5;21;01mRgsEvaluate\u001b[39;00m \u001b[38;5;28;01mas\u001b[39;00m \u001b[38;5;21;01mRgsEvaluate\u001b[39;00m\n\u001b[0;32m      9\u001b[0m \u001b[38;5;28;01mimport\u001b[39;00m \u001b[38;5;21;01mOpenSA\u001b[39;00m\u001b[38;5;21;01m.\u001b[39;00m\u001b[38;5;21;01mPreprocessing\u001b[39;00m\u001b[38;5;21;01m.\u001b[39;00m\u001b[38;5;21;01mPreprocessing\u001b[39;00m \u001b[38;5;28;01mas\u001b[39;00m \u001b[38;5;21;01mPreprocessing\u001b[39;00m\n\u001b[1;32m---> 10\u001b[0m \u001b[38;5;28;01mimport\u001b[39;00m \u001b[38;5;21;01mOpenSA\u001b[39;00m\u001b[38;5;21;01m.\u001b[39;00m\u001b[38;5;21;01mRegression\u001b[39;00m\u001b[38;5;21;01m.\u001b[39;00m\u001b[38;5;21;01mClassicRgs\u001b[39;00m \u001b[38;5;28;01mas\u001b[39;00m \u001b[38;5;21;01mClassicRgs\u001b[39;00m\n\u001b[0;32m     11\u001b[0m \u001b[38;5;28;01mimport\u001b[39;00m \u001b[38;5;21;01mOpenSA\u001b[39;00m\u001b[38;5;21;01m.\u001b[39;00m\u001b[38;5;21;01mRegression\u001b[39;00m\u001b[38;5;21;01m.\u001b[39;00m\u001b[38;5;21;01mCNN\u001b[39;00m \u001b[38;5;28;01mas\u001b[39;00m \u001b[38;5;21;01mCNN\u001b[39;00m\n\u001b[0;32m     12\u001b[0m \u001b[38;5;28;01mimport\u001b[39;00m \u001b[38;5;21;01mOpenSA\u001b[39;00m\u001b[38;5;21;01m.\u001b[39;00m\u001b[38;5;21;01mRegression\u001b[39;00m\u001b[38;5;21;01m.\u001b[39;00m\u001b[38;5;21;01mCnnModel\u001b[39;00m \u001b[38;5;28;01mas\u001b[39;00m \u001b[38;5;21;01mCnnModel\u001b[39;00m\n",
      "File \u001b[1;32me:\\Anaconda\\envs\\py311\\Lib\\site-packages\\OpenSA\\Regression\\ClassicRgs.py:18\u001b[0m\n\u001b[0;32m      6\u001b[0m \u001b[38;5;124;03m\"\"\"\u001b[39;00m\n\u001b[0;32m      7\u001b[0m \u001b[38;5;124;03m    -*- coding: utf-8 -*-\u001b[39;00m\n\u001b[0;32m      8\u001b[0m \u001b[38;5;124;03m    @Time   :2022/04/12 17:10\u001b[39;00m\n\u001b[1;32m   (...)\u001b[0m\n\u001b[0;32m     14\u001b[0m \n\u001b[0;32m     15\u001b[0m \u001b[38;5;124;03m\"\"\"\u001b[39;00m\n\u001b[0;32m     17\u001b[0m \u001b[38;5;28;01mfrom\u001b[39;00m \u001b[38;5;21;01msklearn\u001b[39;00m\u001b[38;5;21;01m.\u001b[39;00m\u001b[38;5;21;01msvm\u001b[39;00m \u001b[38;5;28;01mimport\u001b[39;00m SVR\n\u001b[1;32m---> 18\u001b[0m \u001b[38;5;28;01mfrom\u001b[39;00m \u001b[38;5;21;01mEvaluate\u001b[39;00m\u001b[38;5;21;01m.\u001b[39;00m\u001b[38;5;21;01mRgsEvaluate\u001b[39;00m \u001b[38;5;28;01mimport\u001b[39;00m ModelRgsevaluate\n\u001b[0;32m     20\u001b[0m \u001b[38;5;28;01mdef\u001b[39;00m \u001b[38;5;21mPls\u001b[39m( X_train, X_test, y_train, y_test):\n\u001b[0;32m     23\u001b[0m     model \u001b[38;5;241m=\u001b[39m PLSRegression(n_components\u001b[38;5;241m=\u001b[39m\u001b[38;5;241m8\u001b[39m)\n",
      "\u001b[1;31mModuleNotFoundError\u001b[0m: No module named 'Evaluate'"
     ]
    }
   ],
   "source": [
    "import OpenSA.Classification.ClassicCls as ClassicCls\n",
    "import OpenSA.Classification.CNN as CNN\n",
    "import OpenSA.Classification.DeepCls as DeepCls\n",
    "import OpenSA.Classification.SAE as SAE\n",
    "import OpenSA.Classification.Cls as Cls\n",
    "import OpenSA.Clustering.Cluster as Cluster\n",
    "import OpenSA.DataLoad as DataLoad\n",
    "import OpenSA.Evaluate.RgsEvaluate as RgsEvaluate\n",
    "import OpenSA.Preprocessing.Preprocessing as Preprocessing\n",
    "import OpenSA.Regression.ClassicRgs as ClassicRgs\n",
    "import OpenSA.Regression.CNN as CNN\n",
    "import OpenSA.Regression.CnnModel as CnnModel\n",
    "import OpenSA.Regression.DeepRgs as DeepRgs\n",
    "import OpenSA.Regression.Rgs as Rgs\n",
    "import OpenSA.Simcalculation.SimCa as SimCa\n",
    "import OpenSA.WaveSelect.Cars as Cars\n",
    "import OpenSA.WaveSelect.GA as GA\n",
    "import OpenSA.WaveSelect.Lar as Lar\n",
    "import OpenSA.WaveSelect.Pca as Pca\n",
    "import OpenSA.WaveSelect.Spa as Spa\n",
    "import OpenSA.WaveSelect.Uve as Uve\n",
    "import OpenSA.WaveSelect.WaveSelect as WaveSelect   "
   ]
  },
  {
   "cell_type": "code",
   "execution_count": null,
   "metadata": {},
   "outputs": [],
   "source": []
  }
 ],
 "metadata": {
  "kernelspec": {
   "display_name": "py311",
   "language": "python",
   "name": "python3"
  },
  "language_info": {
   "codemirror_mode": {
    "name": "ipython",
    "version": 3
   },
   "file_extension": ".py",
   "mimetype": "text/x-python",
   "name": "python",
   "nbconvert_exporter": "python",
   "pygments_lexer": "ipython3",
   "version": "3.11.10"
  }
 },
 "nbformat": 4,
 "nbformat_minor": 2
}
