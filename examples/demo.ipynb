{
 "cells": [
  {
   "cell_type": "code",
   "execution_count": 3,
   "metadata": {},
   "outputs": [],
   "source": [
    "import OpenSA.Classification.ClassicCls as ClassicCls\n",
    "import OpenSA.Classification.CNN as CNN\n",
    "import OpenSA.Classification.DeepCls as DeepCls\n",
    "import OpenSA.Classification.SAE as SAE\n",
    "import OpenSA.Classification.Cls as Cls\n",
    "import OpenSA.Clustering.Cluster as Cluster\n",
    "import OpenSA.DataLoad as DataLoad\n",
    "import OpenSA.Evaluate.RgsEvaluate as RgsEvaluate\n",
    "import OpenSA.Preprocessing.Preprocessing as Preprocessing\n",
    "import OpenSA.Regression.ClassicRgs as ClassicRgs\n",
    "import OpenSA.Regression.CNN as CNN\n",
    "import OpenSA.Regression.CnnModel as CnnModel\n",
    "import OpenSA.Regression.DeepRgs as DeepRgs\n",
    "import OpenSA.Regression.Rgs as Rgs\n",
    "import OpenSA.Simcalculation.SimCa as SimCa\n",
    "import OpenSA.WaveSelect.Cars as Cars\n",
    "import OpenSA.WaveSelect.GA as GA\n",
    "import OpenSA.WaveSelect.Lar as Lar\n",
    "import OpenSA.WaveSelect.Pca as Pca\n",
    "import OpenSA.WaveSelect.Spa as Spa\n",
    "import OpenSA.WaveSelect.Uve as Uve\n",
    "import OpenSA.WaveSelect.WaveSelcet  as waveselect"
   ]
  },
  {
   "cell_type": "code",
   "execution_count": null,
   "metadata": {},
   "outputs": [],
   "source": []
  }
 ],
 "metadata": {
  "kernelspec": {
   "display_name": "py311",
   "language": "python",
   "name": "python3"
  },
  "language_info": {
   "codemirror_mode": {
    "name": "ipython",
    "version": 3
   },
   "file_extension": ".py",
   "mimetype": "text/x-python",
   "name": "python",
   "nbconvert_exporter": "python",
   "pygments_lexer": "ipython3",
   "version": "3.11.10"
  }
 },
 "nbformat": 4,
 "nbformat_minor": 2
}
